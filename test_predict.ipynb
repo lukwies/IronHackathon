{
 "cells": [
  {
   "cell_type": "code",
   "execution_count": 1,
   "id": "b1effcb7",
   "metadata": {},
   "outputs": [],
   "source": [
    "import pandas as pd\n",
    "import numpy as np\n",
    "import matplotlib.pyplot as plt\n",
    "import seaborn as sns\n",
    "import time\n",
    "import pickle\n",
    "\n",
    "from sklearn.model_selection import train_test_split\n",
    "from sklearn.preprocessing import OneHotEncoder\n",
    "from sklearn.preprocessing import StandardScaler\n",
    "\n",
    "from sklearn.feature_selection import SelectKBest, chi2\n",
    "from sklearn.linear_model import LogisticRegression\n",
    "from sklearn.model_selection import GridSearchCV, cross_val_score\n",
    "from sklearn.feature_selection import VarianceThreshold\n",
    "from sklearn.utils import resample\n",
    "from sklearn.metrics import accuracy_score, make_scorer\n",
    "from sklearn.ensemble import RandomForestClassifier\n",
    "from sklearn.metrics import confusion_matrix, ConfusionMatrixDisplay"
   ]
  },
  {
   "cell_type": "markdown",
   "id": "ccf71c8b",
   "metadata": {},
   "source": [
    "### Load dataset used for testing"
   ]
  },
  {
   "cell_type": "code",
   "execution_count": 2,
   "id": "f528def0",
   "metadata": {
    "scrolled": true
   },
   "outputs": [
    {
     "data": {
      "text/html": [
       "<div>\n",
       "<style scoped>\n",
       "    .dataframe tbody tr th:only-of-type {\n",
       "        vertical-align: middle;\n",
       "    }\n",
       "\n",
       "    .dataframe tbody tr th {\n",
       "        vertical-align: top;\n",
       "    }\n",
       "\n",
       "    .dataframe thead th {\n",
       "        text-align: right;\n",
       "    }\n",
       "</style>\n",
       "<table border=\"1\" class=\"dataframe\">\n",
       "  <thead>\n",
       "    <tr style=\"text-align: right;\">\n",
       "      <th></th>\n",
       "      <th>AGE</th>\n",
       "      <th>SEX</th>\n",
       "      <th>STEROID</th>\n",
       "      <th>ANTIVIRALS</th>\n",
       "      <th>FATIGUE</th>\n",
       "      <th>MALAISE</th>\n",
       "      <th>ANOREXIA</th>\n",
       "      <th>LIVER BIG</th>\n",
       "      <th>LIVER FIRM</th>\n",
       "      <th>SPLEEN PALPABLE</th>\n",
       "      <th>SPIDERS</th>\n",
       "      <th>ASCITES</th>\n",
       "      <th>VARICES</th>\n",
       "      <th>BILIRUBIN</th>\n",
       "      <th>ALK PHOSPHATE</th>\n",
       "      <th>SGOT</th>\n",
       "      <th>ALBUMIN</th>\n",
       "      <th>PROTIME</th>\n",
       "      <th>HISTOLOGY</th>\n",
       "    </tr>\n",
       "  </thead>\n",
       "  <tbody>\n",
       "    <tr>\n",
       "      <th>0</th>\n",
       "      <td>39</td>\n",
       "      <td>Male</td>\n",
       "      <td>2</td>\n",
       "      <td>2</td>\n",
       "      <td>1</td>\n",
       "      <td>2</td>\n",
       "      <td>2</td>\n",
       "      <td>2</td>\n",
       "      <td>1</td>\n",
       "      <td>2</td>\n",
       "      <td>2</td>\n",
       "      <td>2</td>\n",
       "      <td>2</td>\n",
       "      <td>0.70</td>\n",
       "      <td>?</td>\n",
       "      <td>48</td>\n",
       "      <td>4.4</td>\n",
       "      <td>?</td>\n",
       "      <td>1</td>\n",
       "    </tr>\n",
       "    <tr>\n",
       "      <th>1</th>\n",
       "      <td>41</td>\n",
       "      <td>Feamle</td>\n",
       "      <td>2</td>\n",
       "      <td>1</td>\n",
       "      <td>1</td>\n",
       "      <td>1</td>\n",
       "      <td>1</td>\n",
       "      <td>2</td>\n",
       "      <td>2</td>\n",
       "      <td>2</td>\n",
       "      <td>2</td>\n",
       "      <td>2</td>\n",
       "      <td>2</td>\n",
       "      <td>0.70</td>\n",
       "      <td>81</td>\n",
       "      <td>53</td>\n",
       "      <td>5.0</td>\n",
       "      <td>74</td>\n",
       "      <td>1</td>\n",
       "    </tr>\n",
       "    <tr>\n",
       "      <th>2</th>\n",
       "      <td>28</td>\n",
       "      <td>maled</td>\n",
       "      <td>1</td>\n",
       "      <td>2</td>\n",
       "      <td>1</td>\n",
       "      <td>1</td>\n",
       "      <td>1</td>\n",
       "      <td>2</td>\n",
       "      <td>1</td>\n",
       "      <td>2</td>\n",
       "      <td>2</td>\n",
       "      <td>2</td>\n",
       "      <td>2</td>\n",
       "      <td>1.60</td>\n",
       "      <td>44</td>\n",
       "      <td>123</td>\n",
       "      <td>4.0</td>\n",
       "      <td>46</td>\n",
       "      <td>1</td>\n",
       "    </tr>\n",
       "    <tr>\n",
       "      <th>3</th>\n",
       "      <td>36</td>\n",
       "      <td>maled</td>\n",
       "      <td>1</td>\n",
       "      <td>2</td>\n",
       "      <td>1</td>\n",
       "      <td>1</td>\n",
       "      <td>1</td>\n",
       "      <td>2</td>\n",
       "      <td>1</td>\n",
       "      <td>2</td>\n",
       "      <td>2</td>\n",
       "      <td>2</td>\n",
       "      <td>2</td>\n",
       "      <td>1.00</td>\n",
       "      <td>?</td>\n",
       "      <td>45</td>\n",
       "      <td>4.0</td>\n",
       "      <td>57</td>\n",
       "      <td>1</td>\n",
       "    </tr>\n",
       "    <tr>\n",
       "      <th>4</th>\n",
       "      <td>32</td>\n",
       "      <td>M</td>\n",
       "      <td>2</td>\n",
       "      <td>2</td>\n",
       "      <td>2</td>\n",
       "      <td>2</td>\n",
       "      <td>2</td>\n",
       "      <td>2</td>\n",
       "      <td>2</td>\n",
       "      <td>2</td>\n",
       "      <td>2</td>\n",
       "      <td>2</td>\n",
       "      <td>2</td>\n",
       "      <td>0.70</td>\n",
       "      <td>102</td>\n",
       "      <td>64</td>\n",
       "      <td>4.0</td>\n",
       "      <td>90</td>\n",
       "      <td>1</td>\n",
       "    </tr>\n",
       "  </tbody>\n",
       "</table>\n",
       "</div>"
      ],
      "text/plain": [
       "   AGE     SEX  STEROID  ANTIVIRALS FATIGUE MALAISE ANOREXIA LIVER BIG  \\\n",
       "0   39    Male        2           2       1       2        2         2   \n",
       "1   41  Feamle        2           1       1       1        1         2   \n",
       "2   28   maled        1           2       1       1        1         2   \n",
       "3   36   maled        1           2       1       1        1         2   \n",
       "4   32       M        2           2       2       2        2         2   \n",
       "\n",
       "  LIVER FIRM SPLEEN PALPABLE SPIDERS ASCITES VARICES BILIRUBIN ALK PHOSPHATE  \\\n",
       "0          1               2       2       2       2      0.70             ?   \n",
       "1          2               2       2       2       2      0.70            81   \n",
       "2          1               2       2       2       2      1.60            44   \n",
       "3          1               2       2       2       2      1.00             ?   \n",
       "4          2               2       2       2       2      0.70           102   \n",
       "\n",
       "  SGOT ALBUMIN PROTIME  HISTOLOGY  \n",
       "0   48     4.4       ?          1  \n",
       "1   53     5.0      74          1  \n",
       "2  123     4.0      46          1  \n",
       "3   45     4.0      57          1  \n",
       "4   64     4.0      90          1  "
      ]
     },
     "execution_count": 2,
     "metadata": {},
     "output_type": "execute_result"
    }
   ],
   "source": [
    "data = pd.read_csv('test_no_class.csv')\n",
    "data.head()"
   ]
  },
  {
   "cell_type": "markdown",
   "id": "d3877241",
   "metadata": {},
   "source": [
    "### Clean the data"
   ]
  },
  {
   "cell_type": "code",
   "execution_count": 3,
   "id": "82cfa98a",
   "metadata": {
    "scrolled": true
   },
   "outputs": [],
   "source": [
    "def replace_by_mean(data, col, c):\n",
    "    data[col].mask(data[col] == c, 0, inplace=True)\n",
    "    data[col] = pd.to_numeric(data[col])\n",
    "    data[col].mask(data[col] == 0, data[col].mean(), inplace=True)\n",
    "\n",
    "def clean_data(data):\n",
    "    df = data.copy()\n",
    "    df['SEX'] = df['SEX'].replace({'m':'M', 'meale':'M', 'Male':'M',\n",
    "                                   'maled':'M', 'male':'M', 'Feamle':'F',\n",
    "                                   'female':'F'})\n",
    "    replace_by_mean(df, 'PROTIME', '?')\n",
    "    replace_by_mean(df, 'STEROID', '?')\n",
    "    replace_by_mean(df, 'ANTIVIRALS', '?')\n",
    "    replace_by_mean(df, 'FATIGUE', '?')\n",
    "    replace_by_mean(df, 'MALAISE', '?')\n",
    "    replace_by_mean(df, 'ANOREXIA', '?')\n",
    "    replace_by_mean(df, 'LIVER BIG', '?')\n",
    "    replace_by_mean(df, 'LIVER FIRM', '?')\n",
    "    replace_by_mean(df, 'SPIDERS', '?')\n",
    "    replace_by_mean(df, 'SPLEEN PALPABLE', '?')\n",
    "    replace_by_mean(df, 'ASCITES', '?')\n",
    "    replace_by_mean(df, 'BILIRUBIN', '?')\n",
    "    replace_by_mean(df, 'ALK PHOSPHATE', '?')\n",
    "    replace_by_mean(df, 'VARICES', '?')\n",
    "    replace_by_mean(df, 'SGOT', '?')\n",
    "    replace_by_mean(df, 'ALBUMIN', '?')\n",
    "    replace_by_mean(df, 'HISTOLOGY', '?')\n",
    "    \n",
    "    return df"
   ]
  },
  {
   "cell_type": "code",
   "execution_count": 4,
   "id": "f37608b8",
   "metadata": {},
   "outputs": [],
   "source": [
    "data = clean_data(data)"
   ]
  },
  {
   "cell_type": "markdown",
   "id": "b745f419",
   "metadata": {},
   "source": [
    "### Scale and encode the data"
   ]
  },
  {
   "cell_type": "code",
   "execution_count": 5,
   "id": "02d85743",
   "metadata": {},
   "outputs": [],
   "source": [
    "data = pd.get_dummies(data, drop_first=True)"
   ]
  },
  {
   "cell_type": "code",
   "execution_count": 6,
   "id": "753dda24",
   "metadata": {
    "scrolled": true
   },
   "outputs": [],
   "source": [
    "with open('standard_scaler.pickle', 'rb') as file:\n",
    "    scaler = pickle.load(file)\n",
    "\n",
    "data_scaled = pd.DataFrame(scaler.transform(data), columns=data.columns)"
   ]
  },
  {
   "cell_type": "markdown",
   "id": "3c433f99",
   "metadata": {},
   "source": [
    "### Load models"
   ]
  },
  {
   "cell_type": "code",
   "execution_count": 7,
   "id": "28f22dfb",
   "metadata": {
    "scrolled": true
   },
   "outputs": [],
   "source": [
    "with open('random_forest.pickle', 'rb') as file:\n",
    "    knn = pickle.load(file)"
   ]
  },
  {
   "cell_type": "markdown",
   "id": "9310d4dd",
   "metadata": {},
   "source": [
    "### Do the predictions"
   ]
  },
  {
   "cell_type": "code",
   "execution_count": 8,
   "id": "b56b64e5",
   "metadata": {},
   "outputs": [],
   "source": [
    "y_rF_pred  = randForest.predict(data)\n",
    "#y_knn_pred = knn.predict(data)"
   ]
  },
  {
   "cell_type": "markdown",
   "id": "55e1885f",
   "metadata": {},
   "source": [
    "### Store prediction result to CSV file"
   ]
  },
  {
   "cell_type": "code",
   "execution_count": 9,
   "id": "ca00f2e3",
   "metadata": {
    "scrolled": false
   },
   "outputs": [],
   "source": [
    "pd.DataFrame(pd.Series(y_knn_pred), columns=['Class']).to_csv('group_3_rf.csv')"
   ]
  }
 ],
 "metadata": {
  "kernelspec": {
   "display_name": "Python 3 (ipykernel)",
   "language": "python",
   "name": "python3"
  },
  "language_info": {
   "codemirror_mode": {
    "name": "ipython",
    "version": 3
   },
   "file_extension": ".py",
   "mimetype": "text/x-python",
   "name": "python",
   "nbconvert_exporter": "python",
   "pygments_lexer": "ipython3",
   "version": "3.10.8"
  }
 },
 "nbformat": 4,
 "nbformat_minor": 5
}
